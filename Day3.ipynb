{
  "nbformat": 4,
  "nbformat_minor": 0,
  "metadata": {
    "colab": {
      "provenance": [],
      "collapsed_sections": [],
      "authorship_tag": "ABX9TyPuUoYtmnXoPB0TPttRJUwB"
    },
    "kernelspec": {
      "name": "python3",
      "display_name": "Python 3"
    },
    "language_info": {
      "name": "python"
    }
  },
  "cells": [
    {
      "cell_type": "code",
      "execution_count": null,
      "metadata": {
        "id": "kjHo-V75Qz1M"
      },
      "outputs": [],
      "source": [
        "#18th July,2022"
      ]
    },
    {
      "cell_type": "code",
      "source": [
        "a = input('Enter the weather condition')\n",
        "if(a == 'summer'):\n",
        "  print('It is summer season')\n",
        "elif(a == 'winter'):\n",
        "  print('It is winter season')\n",
        "elif(a == 'monsoon'):\n",
        "  print('It is rainy season')\n",
        "else:\n",
        "  print('Invalid Input')"
      ],
      "metadata": {
        "id": "lncbgoD7O3f6"
      },
      "execution_count": null,
      "outputs": []
    },
    {
      "cell_type": "code",
      "source": [
        "#LOOPS - WHILE,FOR\n",
        "#WHILE\n",
        "#WAP to print numbers from 0 to 9\n",
        "a = 0\n",
        "while(a<10):\n",
        "  print(a,end = '')\n",
        "  a+=2 #a = a+1"
      ],
      "metadata": {
        "id": "-dXIY5JrO5gI",
        "colab": {
          "base_uri": "https://localhost:8080/"
        },
        "outputId": "84be87be-2f0d-4bf9-883b-9b029c41f59e"
      },
      "execution_count": 2,
      "outputs": [
        {
          "output_type": "stream",
          "name": "stdout",
          "text": [
            "02468"
          ]
        }
      ]
    },
    {
      "cell_type": "code",
      "source": [
        "#WAP for 2 tables(2 x 1 = 2........2 x 10 = 20)\n",
        "i = 1\n",
        "n = 2\n",
        "while(i <= 10):\n",
        "  print(n, 'x' , i , '=' ,n*i)\n",
        "  i = i + 1"
      ],
      "metadata": {
        "id": "N7dAUmxNO8FN",
        "colab": {
          "base_uri": "https://localhost:8080/"
        },
        "outputId": "9bf2eee2-9bff-4439-f979-e1149826bbb1"
      },
      "execution_count": 1,
      "outputs": [
        {
          "output_type": "stream",
          "name": "stdout",
          "text": [
            "2 x 1 = 2\n",
            "2 x 2 = 4\n",
            "2 x 3 = 6\n",
            "2 x 4 = 8\n",
            "2 x 5 = 10\n",
            "2 x 6 = 12\n",
            "2 x 7 = 14\n",
            "2 x 8 = 16\n",
            "2 x 9 = 18\n",
            "2 x 10 = 20\n"
          ]
        }
      ]
    },
    {
      "cell_type": "code",
      "source": [
        "#FOR LOOP\n",
        "#WAP to print numbers from 1 to 10\n",
        "for i in range(1,11):\n",
        "  print(i)"
      ],
      "metadata": {
        "id": "HGTg_HXxO-8A",
        "colab": {
          "base_uri": "https://localhost:8080/"
        },
        "outputId": "f5bd1768-2135-4f85-a1b5-11c45df4529e"
      },
      "execution_count": 3,
      "outputs": [
        {
          "output_type": "stream",
          "name": "stdout",
          "text": [
            "1\n",
            "2\n",
            "3\n",
            "4\n",
            "5\n",
            "6\n",
            "7\n",
            "8\n",
            "9\n",
            "10\n"
          ]
        }
      ]
    },
    {
      "cell_type": "code",
      "source": [
        "for i in range(1,11,2): # 1,11 is the range and 2 is the step size of increment\n",
        "  print(i)"
      ],
      "metadata": {
        "id": "_9VYohkfPBSa",
        "colab": {
          "base_uri": "https://localhost:8080/"
        },
        "outputId": "e2f872b5-68e7-48ac-d46f-bd00059b8320"
      },
      "execution_count": 4,
      "outputs": [
        {
          "output_type": "stream",
          "name": "stdout",
          "text": [
            "1\n",
            "3\n",
            "5\n",
            "7\n",
            "9\n"
          ]
        }
      ]
    },
    {
      "cell_type": "code",
      "source": [
        "#decrement\n",
        "#whenever decrement is being done , it always happens from a greater number\n",
        "for i in range(11,1,-2):\n",
        "  print(i)"
      ],
      "metadata": {
        "id": "tjbKp7_gPDiU",
        "colab": {
          "base_uri": "https://localhost:8080/"
        },
        "outputId": "f02c2478-3eea-419e-bb15-ff7ba76944d0"
      },
      "execution_count": 5,
      "outputs": [
        {
          "output_type": "stream",
          "name": "stdout",
          "text": [
            "11\n",
            "9\n",
            "7\n",
            "5\n",
            "3\n"
          ]
        }
      ]
    },
    {
      "cell_type": "code",
      "source": [
        "# WAP to display the no 3 tables using for loop"
      ],
      "metadata": {
        "id": "YthzaIWoPGP6"
      },
      "execution_count": null,
      "outputs": []
    },
    {
      "cell_type": "code",
      "source": [
        "#FUNCTIONS - 1.BUILTIN - print(),input(),len(),min(),max()\n",
        "#2.USER DEFINED FUNCTIONS"
      ],
      "metadata": {
        "id": "srZZjRLfPIZG"
      },
      "execution_count": null,
      "outputs": []
    },
    {
      "cell_type": "code",
      "source": [
        "#whenever a particular function is defined , it should always be called"
      ],
      "metadata": {
        "id": "xFRrVhHaPLr_"
      },
      "execution_count": null,
      "outputs": []
    },
    {
      "cell_type": "code",
      "source": [
        "#function definition\n",
        "def add():    #add() is my function name \n",
        "  a = 25\n",
        "  b = 15\n",
        "  sum = a + b\n",
        "  print(sum)"
      ],
      "metadata": {
        "id": "nft0oLmNPN1p"
      },
      "execution_count": null,
      "outputs": []
    },
    {
      "cell_type": "code",
      "source": [
        "#function call\n",
        "add()\n",
        "add()"
      ],
      "metadata": {
        "id": "M0FmddXZPRlV"
      },
      "execution_count": null,
      "outputs": []
    },
    {
      "cell_type": "code",
      "source": [
        "#type 2\n",
        "def add(a,b):\n",
        "  result = a + b\n",
        "  print(\"Sum of a and b is \",result)"
      ],
      "metadata": {
        "id": "nZRqVnczPVyV"
      },
      "execution_count": null,
      "outputs": []
    },
    {
      "cell_type": "code",
      "source": [
        "add(25,15)"
      ],
      "metadata": {
        "id": "qhxXGVYgPWxz"
      },
      "execution_count": null,
      "outputs": []
    },
    {
      "cell_type": "code",
      "source": [
        "#For a function to return a value,we can use the return statement \n",
        "def add(a,b):\n",
        "  result = a + b\n",
        "  return result\n",
        "  "
      ],
      "metadata": {
        "id": "kWWKetyEPbAL"
      },
      "execution_count": null,
      "outputs": []
    },
    {
      "cell_type": "code",
      "source": [
        "result = add(15,25)\n",
        "print(result)"
      ],
      "metadata": {
        "id": "JQ1pWWhuPbzB"
      },
      "execution_count": null,
      "outputs": []
    },
    {
      "cell_type": "code",
      "source": [
        "#FILE HANDLING - something related to files\n"
      ],
      "metadata": {
        "id": "ifrIUNBnPgJE"
      },
      "execution_count": null,
      "outputs": []
    },
    {
      "cell_type": "code",
      "source": [
        "%%writefile abc.txt\n",
        "#here we are creating a .txt file using the magic command %%writefile\n",
        "#%%writefile is a magic command to create a file with name abc and extension .txt\n",
        "This is a demo file\n",
        "Created only for testing"
      ],
      "metadata": {
        "id": "fyuHS1xsPjK9",
        "colab": {
          "base_uri": "https://localhost:8080/"
        },
        "outputId": "8da38502-8136-4bdf-b4b8-2ea099e5dc94"
      },
      "execution_count": 6,
      "outputs": [
        {
          "output_type": "stream",
          "name": "stdout",
          "text": [
            "Writing abc.txt\n"
          ]
        }
      ]
    },
    {
      "cell_type": "code",
      "source": [
        "%%writefile xyz.py\n",
        "print('HELLO WORLD')"
      ],
      "metadata": {
        "id": "CjcQrFd7PntU",
        "colab": {
          "base_uri": "https://localhost:8080/"
        },
        "outputId": "8ca42d17-7e65-4f6a-f0f0-8eddc4a1ef69"
      },
      "execution_count": 7,
      "outputs": [
        {
          "output_type": "stream",
          "name": "stdout",
          "text": [
            "Writing xyz.py\n"
          ]
        }
      ]
    },
    {
      "cell_type": "code",
      "source": [
        "#SEQUENCES IN PYTHON - similar to variables\n",
        "#Sequences are containers,where certain items of same or different datatypes could be stores\n",
        "#1.LIST,2.TUPLE,3.SET,DICTIONARY"
      ],
      "metadata": {
        "id": "Cu7HNneQPrFS"
      },
      "execution_count": null,
      "outputs": []
    },
    {
      "cell_type": "code",
      "source": [
        "#LIST - [] - MUTABLE(could be changed),ORDERED,ALLOWS DUPLICATES\n",
        "a = [1,2,3,4,5]\n",
        "a"
      ],
      "metadata": {
        "id": "UREQiDszPu8f",
        "colab": {
          "base_uri": "https://localhost:8080/"
        },
        "outputId": "5c57fd14-a620-47a7-9445-60d7179941e8"
      },
      "execution_count": 8,
      "outputs": [
        {
          "output_type": "execute_result",
          "data": {
            "text/plain": [
              "[1, 2, 3, 4, 5]"
            ]
          },
          "metadata": {},
          "execution_count": 8
        }
      ]
    },
    {
      "cell_type": "code",
      "source": [
        "type(a)"
      ],
      "metadata": {
        "id": "VWMl5bXBPxet",
        "colab": {
          "base_uri": "https://localhost:8080/"
        },
        "outputId": "9054f2e0-3916-45d7-beb5-cb4188b21882"
      },
      "execution_count": 9,
      "outputs": [
        {
          "output_type": "execute_result",
          "data": {
            "text/plain": [
              "list"
            ]
          },
          "metadata": {},
          "execution_count": 9
        }
      ]
    },
    {
      "cell_type": "code",
      "source": [
        "b = [25,'Hello World',2.7,True]\n",
        "b"
      ],
      "metadata": {
        "id": "vY5iSXmaP18R"
      },
      "execution_count": null,
      "outputs": []
    },
    {
      "cell_type": "code",
      "source": [
        "fruits = ['Mango','Apple','Grapes']\n",
        "fruits"
      ],
      "metadata": {
        "id": "fEx_Pz-0P4XN"
      },
      "execution_count": null,
      "outputs": []
    },
    {
      "cell_type": "code",
      "source": [
        "#OPERATIONS on a LIST\n",
        "#It adds a particular element with the name 'banana'.It adds banana at the end\n",
        "fruits.append('banana')\n",
        "fruits"
      ],
      "metadata": {
        "id": "jcdgxpGRP6m_"
      },
      "execution_count": null,
      "outputs": []
    },
    {
      "cell_type": "code",
      "source": [
        "#add an element based on index\n",
        "fruits.insert(2,'Cherry') #It adds cherry at index no 2\n",
        "fruits"
      ],
      "metadata": {
        "id": "NNEQ5f7KP84s"
      },
      "execution_count": null,
      "outputs": []
    },
    {
      "cell_type": "code",
      "source": [
        "#remove one 'banana' from the fruits list\n",
        "fruits.remove('banana')\n",
        "fruits"
      ],
      "metadata": {
        "id": "4Zvk4KqSP_Yy"
      },
      "execution_count": null,
      "outputs": []
    },
    {
      "cell_type": "code",
      "source": [
        "#To remove any element in the list based on index\n",
        "fruits.pop(1) # removes the element at index no 1"
      ],
      "metadata": {
        "id": "G0o3P77OQARs"
      },
      "execution_count": null,
      "outputs": []
    },
    {
      "cell_type": "code",
      "source": [
        "fruits"
      ],
      "metadata": {
        "id": "A4z178bnQChk"
      },
      "execution_count": null,
      "outputs": []
    },
    {
      "cell_type": "code",
      "source": [
        "fruits.reverse() # It reverses the order of my list - fruits"
      ],
      "metadata": {
        "id": "LXPlvVGpQGjw"
      },
      "execution_count": null,
      "outputs": []
    },
    {
      "cell_type": "code",
      "source": [
        "fruits"
      ],
      "metadata": {
        "id": "mDLTXx-oQHNL"
      },
      "execution_count": null,
      "outputs": []
    },
    {
      "cell_type": "code",
      "source": [
        "veggies = ['Carrot','Tomato','Capsicum']\n",
        "veggies"
      ],
      "metadata": {
        "id": "nUeKjJtgQKT3"
      },
      "execution_count": null,
      "outputs": []
    },
    {
      "cell_type": "code",
      "source": [
        "fruits.extend(veggies)#It merges both the lists"
      ],
      "metadata": {
        "id": "XO1m4QZqQMOK"
      },
      "execution_count": null,
      "outputs": []
    },
    {
      "cell_type": "code",
      "source": [
        "fruits"
      ],
      "metadata": {
        "id": "4KaRuXppQPay"
      },
      "execution_count": null,
      "outputs": []
    },
    {
      "cell_type": "code",
      "source": [
        "#TUPLE -() - ORDERED,IMMUTABLE,ALLOW DUPLICATES"
      ],
      "metadata": {
        "id": "EMvUBSBFQTN_"
      },
      "execution_count": null,
      "outputs": []
    },
    {
      "cell_type": "code",
      "source": [
        "t = (1,2,3,4,5)\n",
        "t"
      ],
      "metadata": {
        "id": "q1KuUZFBQT_M",
        "colab": {
          "base_uri": "https://localhost:8080/"
        },
        "outputId": "ca00188b-47e6-4fda-8d8a-038b8456d93d"
      },
      "execution_count": 10,
      "outputs": [
        {
          "output_type": "execute_result",
          "data": {
            "text/plain": [
              "(1, 2, 3, 4, 5)"
            ]
          },
          "metadata": {},
          "execution_count": 10
        }
      ]
    },
    {
      "cell_type": "code",
      "source": [
        "type(t)"
      ],
      "metadata": {
        "id": "YOj5A3y4QW_V",
        "colab": {
          "base_uri": "https://localhost:8080/"
        },
        "outputId": "b336a6be-fc9b-42c1-91d3-5e2d0c60fabd"
      },
      "execution_count": 11,
      "outputs": [
        {
          "output_type": "execute_result",
          "data": {
            "text/plain": [
              "tuple"
            ]
          },
          "metadata": {},
          "execution_count": 11
        }
      ]
    },
    {
      "cell_type": "code",
      "source": [
        "u = (1,2,3,4,5,6,1,2)\n",
        "u"
      ],
      "metadata": {
        "id": "Dyb8cbhzQZYi",
        "colab": {
          "base_uri": "https://localhost:8080/"
        },
        "outputId": "c9231ff6-d7bf-4097-85cc-3495211688d5"
      },
      "execution_count": 12,
      "outputs": [
        {
          "output_type": "execute_result",
          "data": {
            "text/plain": [
              "(1, 2, 3, 4, 5, 6, 1, 2)"
            ]
          },
          "metadata": {},
          "execution_count": 12
        }
      ]
    },
    {
      "cell_type": "code",
      "source": [
        "u.append(5) # tuples are immutable"
      ],
      "metadata": {
        "id": "BqQYdQNfivO9"
      },
      "execution_count": null,
      "outputs": []
    },
    {
      "cell_type": "code",
      "source": [
        "v = ('Hello',True,25,37.2)\n",
        "v"
      ],
      "metadata": {
        "id": "41W4Btl1Qd_C",
        "colab": {
          "base_uri": "https://localhost:8080/"
        },
        "outputId": "d4b622bc-a691-45e5-a5ba-521bf2b81a96"
      },
      "execution_count": 14,
      "outputs": [
        {
          "output_type": "execute_result",
          "data": {
            "text/plain": [
              "('Hello', True, 25, 37.2)"
            ]
          },
          "metadata": {},
          "execution_count": 14
        }
      ]
    },
    {
      "cell_type": "code",
      "source": [
        "#SET -{} - UNORDERED,DOESNOT ALLOW DUPLICATES,UNION,INTERSECTION,IMMUTABLE"
      ],
      "metadata": {
        "id": "w-1x7QstQglX"
      },
      "execution_count": null,
      "outputs": []
    },
    {
      "cell_type": "code",
      "source": [
        "a = {1,2,3,4,5}\n",
        "a"
      ],
      "metadata": {
        "id": "Ym6nk2PZQiZ3"
      },
      "execution_count": null,
      "outputs": []
    },
    {
      "cell_type": "code",
      "source": [
        "type(a)"
      ],
      "metadata": {
        "id": "I_f2hkLTQkEz"
      },
      "execution_count": null,
      "outputs": []
    },
    {
      "cell_type": "code",
      "source": [
        "c = {1,2,3,1,2,True,'Welcome',25.6,25.6}\n",
        "c"
      ],
      "metadata": {
        "id": "n1O4t-_JQl9B"
      },
      "execution_count": null,
      "outputs": []
    },
    {
      "cell_type": "code",
      "source": [
        "x = {1,2,3,4,5,6,7,8,9,10}\n",
        "x"
      ],
      "metadata": {
        "id": "p61X_lEqQqdE",
        "colab": {
          "base_uri": "https://localhost:8080/"
        },
        "outputId": "6ba69471-8151-4b01-f140-f7205e0495b6"
      },
      "execution_count": 16,
      "outputs": [
        {
          "output_type": "execute_result",
          "data": {
            "text/plain": [
              "{1, 2, 3, 4, 5, 6, 7, 8, 9, 10}"
            ]
          },
          "metadata": {},
          "execution_count": 16
        }
      ]
    },
    {
      "cell_type": "code",
      "source": [
        "y = {5,6,7,8,9,10,11,12,13,14}\n",
        "y"
      ],
      "metadata": {
        "id": "jbv4o8ixQubS",
        "colab": {
          "base_uri": "https://localhost:8080/"
        },
        "outputId": "47161367-6db9-4b1c-d859-ec70e36cd503"
      },
      "execution_count": 17,
      "outputs": [
        {
          "output_type": "execute_result",
          "data": {
            "text/plain": [
              "{5, 6, 7, 8, 9, 10, 11, 12, 13, 14}"
            ]
          },
          "metadata": {},
          "execution_count": 17
        }
      ]
    },
    {
      "cell_type": "code",
      "source": [
        "#UNION of 2 SETS\n",
        "x | y"
      ],
      "metadata": {
        "id": "SK4mCCWYQxHH",
        "colab": {
          "base_uri": "https://localhost:8080/"
        },
        "outputId": "2443e7a6-242b-4c60-a54e-e9f1e8c209d5"
      },
      "execution_count": 18,
      "outputs": [
        {
          "output_type": "execute_result",
          "data": {
            "text/plain": [
              "{1, 2, 3, 4, 5, 6, 7, 8, 9, 10, 11, 12, 13, 14}"
            ]
          },
          "metadata": {},
          "execution_count": 18
        }
      ]
    },
    {
      "cell_type": "code",
      "source": [
        "#INTERSECTION of 2 SETS\n",
        "x & y"
      ],
      "metadata": {
        "id": "WkQoPa2-QzVc",
        "colab": {
          "base_uri": "https://localhost:8080/"
        },
        "outputId": "a0ee345b-547a-48ee-ced6-c0fe4c983f0a"
      },
      "execution_count": 19,
      "outputs": [
        {
          "output_type": "execute_result",
          "data": {
            "text/plain": [
              "{5, 6, 7, 8, 9, 10}"
            ]
          },
          "metadata": {},
          "execution_count": 19
        }
      ]
    },
    {
      "cell_type": "code",
      "source": [
        "#DICTIONARY - MUTABLE\n",
        "#syntax - dict = {'key1':'value1','key2':'values'}\n",
        "data = {1:'Python',2:'Java',3:'C++'}\n",
        "data"
      ],
      "metadata": {
        "id": "pds1syMRQ1Vm"
      },
      "execution_count": null,
      "outputs": []
    },
    {
      "cell_type": "code",
      "source": [
        "type(data)"
      ],
      "metadata": {
        "id": "vOhKaGmTQ386"
      },
      "execution_count": null,
      "outputs": []
    },
    {
      "cell_type": "code",
      "source": [
        "cars = {'brand':['Maruti','Ford','Volvo'],'passings':[3,7,19]}\n",
        "cars"
      ],
      "metadata": {
        "id": "o9YTwd9GQ_Nf"
      },
      "execution_count": null,
      "outputs": []
    }
  ]
}