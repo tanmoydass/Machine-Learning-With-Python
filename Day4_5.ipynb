{
  "nbformat": 4,
  "nbformat_minor": 0,
  "metadata": {
    "colab": {
      "provenance": [],
      "collapsed_sections": [],
      "authorship_tag": "ABX9TyOKc6ufjJj1KnXSp+pjyPbT"
    },
    "kernelspec": {
      "name": "python3",
      "display_name": "Python 3"
    },
    "language_info": {
      "name": "python"
    }
  },
  "cells": [
    {
      "cell_type": "code",
      "execution_count": 3,
      "metadata": {
        "colab": {
          "base_uri": "https://localhost:8080/"
        },
        "id": "aUGi7zxsvl3_",
        "outputId": "7e587dba-7694-484c-9000-afaa845252a0"
      },
      "outputs": [
        {
          "output_type": "execute_result",
          "data": {
            "text/plain": [
              "numpy.ndarray"
            ]
          },
          "metadata": {},
          "execution_count": 3
        }
      ],
      "source": [
        "import numpy as np\n",
        "\n",
        "a=np.array([1,3,7,4])\n",
        "type(a)"
      ]
    },
    {
      "cell_type": "code",
      "source": [
        "a.shape"
      ],
      "metadata": {
        "colab": {
          "base_uri": "https://localhost:8080/"
        },
        "id": "ovl0IItVyiX6",
        "outputId": "32bf9865-41bd-423f-e4f1-5e2fa1895779"
      },
      "execution_count": 4,
      "outputs": [
        {
          "output_type": "execute_result",
          "data": {
            "text/plain": [
              "(4,)"
            ]
          },
          "metadata": {},
          "execution_count": 4
        }
      ]
    },
    {
      "cell_type": "code",
      "source": [
        "a.ndim"
      ],
      "metadata": {
        "colab": {
          "base_uri": "https://localhost:8080/"
        },
        "id": "RSstoblrymXH",
        "outputId": "1b5e3bff-2392-45a1-b080-2fe7bfaa9384"
      },
      "execution_count": 5,
      "outputs": [
        {
          "output_type": "execute_result",
          "data": {
            "text/plain": [
              "1"
            ]
          },
          "metadata": {},
          "execution_count": 5
        }
      ]
    },
    {
      "cell_type": "code",
      "source": [
        "a.size"
      ],
      "metadata": {
        "colab": {
          "base_uri": "https://localhost:8080/"
        },
        "id": "k0mZm2o-yqY9",
        "outputId": "c016cc2a-9b69-4273-abe5-49848f0cedd4"
      },
      "execution_count": 6,
      "outputs": [
        {
          "output_type": "execute_result",
          "data": {
            "text/plain": [
              "4"
            ]
          },
          "metadata": {},
          "execution_count": 6
        }
      ]
    },
    {
      "cell_type": "code",
      "source": [
        "import numpy as np\n",
        "b=np.array([[1,2,3],[4,3,1]])\n",
        "b.shape\n",
        "#print(b)\n",
        "#b.ndim"
      ],
      "metadata": {
        "colab": {
          "base_uri": "https://localhost:8080/"
        },
        "id": "OcXoCMp7zVkx",
        "outputId": "c3ec4b01-2068-444d-a055-cde2101d54e3"
      },
      "execution_count": 8,
      "outputs": [
        {
          "output_type": "execute_result",
          "data": {
            "text/plain": [
              "(2, 3)"
            ]
          },
          "metadata": {},
          "execution_count": 8
        }
      ]
    },
    {
      "cell_type": "code",
      "source": [
        "d=np.random.randint(0,100,5)\n",
        "print(d)"
      ],
      "metadata": {
        "colab": {
          "base_uri": "https://localhost:8080/"
        },
        "id": "aOjg7b7L01Rv",
        "outputId": "4edb3e15-b7fc-474e-b4d5-1f84acd0c33e"
      },
      "execution_count": 16,
      "outputs": [
        {
          "output_type": "stream",
          "name": "stdout",
          "text": [
            "[70 88 88 12 58]\n"
          ]
        }
      ]
    },
    {
      "cell_type": "code",
      "source": [
        "np.random.seed(0)\n",
        "e=np.random.randint(0,50,5)\n",
        "e"
      ],
      "metadata": {
        "colab": {
          "base_uri": "https://localhost:8080/"
        },
        "id": "PZesrk2w2OrX",
        "outputId": "97d4eb39-15ee-4c09-9cc7-693a92cef4dd"
      },
      "execution_count": 14,
      "outputs": [
        {
          "output_type": "execute_result",
          "data": {
            "text/plain": [
              "array([44, 47,  0,  3,  3])"
            ]
          },
          "metadata": {},
          "execution_count": 14
        }
      ]
    },
    {
      "cell_type": "code",
      "source": [
        "m=np.random.randint(0,10000,100)\n",
        "print(m)\n",
        "m.shape"
      ],
      "metadata": {
        "colab": {
          "base_uri": "https://localhost:8080/"
        },
        "id": "AVX_Xmhk3Wtr",
        "outputId": "8ba832d1-7857-48f6-f5bb-09c2b31c2ee1"
      },
      "execution_count": 17,
      "outputs": [
        {
          "output_type": "stream",
          "name": "stdout",
          "text": [
            "[ 705 2599 2222 7768 2897 9893  537 6216 6921 6036 2163 5072 4851 7877\n",
            " 2046 1871 7599 2496 8291  755  797  659 3219 8615 7456 3337 2745 4735\n",
            " 8736 6687  714 2292 8343 1207 6172 8994 7221 6021 3622 3560 8948 1641\n",
            " 4984 4353 8622 7250 4187 2659 9781 2956 2251 4420 7108 1071 5251 7012\n",
            " 9396 3918 9359 1684 7098 2957 4469 8752 9797 5795 1472 7263 7365 8448\n",
            " 6001 3762 9008 2435 1634  973 4464 8393 2418 3455 6167 5819 6521 6242\n",
            " 7742 9123 6738 2787 7316 4305 2610 5531 6926 7204 6922 4182  307 5302\n",
            " 1152 6950]\n"
          ]
        },
        {
          "output_type": "execute_result",
          "data": {
            "text/plain": [
              "(100,)"
            ]
          },
          "metadata": {},
          "execution_count": 17
        }
      ]
    },
    {
      "cell_type": "code",
      "source": [
        "m.reshape(20,5)"
      ],
      "metadata": {
        "colab": {
          "base_uri": "https://localhost:8080/"
        },
        "id": "bC2jgzlz4z5B",
        "outputId": "3e0adeb4-e335-431d-a1d5-f547fa933591"
      },
      "execution_count": 18,
      "outputs": [
        {
          "output_type": "execute_result",
          "data": {
            "text/plain": [
              "array([[ 705, 2599, 2222, 7768, 2897],\n",
              "       [9893,  537, 6216, 6921, 6036],\n",
              "       [2163, 5072, 4851, 7877, 2046],\n",
              "       [1871, 7599, 2496, 8291,  755],\n",
              "       [ 797,  659, 3219, 8615, 7456],\n",
              "       [3337, 2745, 4735, 8736, 6687],\n",
              "       [ 714, 2292, 8343, 1207, 6172],\n",
              "       [8994, 7221, 6021, 3622, 3560],\n",
              "       [8948, 1641, 4984, 4353, 8622],\n",
              "       [7250, 4187, 2659, 9781, 2956],\n",
              "       [2251, 4420, 7108, 1071, 5251],\n",
              "       [7012, 9396, 3918, 9359, 1684],\n",
              "       [7098, 2957, 4469, 8752, 9797],\n",
              "       [5795, 1472, 7263, 7365, 8448],\n",
              "       [6001, 3762, 9008, 2435, 1634],\n",
              "       [ 973, 4464, 8393, 2418, 3455],\n",
              "       [6167, 5819, 6521, 6242, 7742],\n",
              "       [9123, 6738, 2787, 7316, 4305],\n",
              "       [2610, 5531, 6926, 7204, 6922],\n",
              "       [4182,  307, 5302, 1152, 6950]])"
            ]
          },
          "metadata": {},
          "execution_count": 18
        }
      ]
    },
    {
      "cell_type": "code",
      "source": [
        "m"
      ],
      "metadata": {
        "colab": {
          "base_uri": "https://localhost:8080/"
        },
        "id": "1l6gI8qw5B-T",
        "outputId": "99398f58-b911-4847-9044-8b78a83dd362"
      },
      "execution_count": 19,
      "outputs": [
        {
          "output_type": "execute_result",
          "data": {
            "text/plain": [
              "array([ 705, 2599, 2222, 7768, 2897, 9893,  537, 6216, 6921, 6036, 2163,\n",
              "       5072, 4851, 7877, 2046, 1871, 7599, 2496, 8291,  755,  797,  659,\n",
              "       3219, 8615, 7456, 3337, 2745, 4735, 8736, 6687,  714, 2292, 8343,\n",
              "       1207, 6172, 8994, 7221, 6021, 3622, 3560, 8948, 1641, 4984, 4353,\n",
              "       8622, 7250, 4187, 2659, 9781, 2956, 2251, 4420, 7108, 1071, 5251,\n",
              "       7012, 9396, 3918, 9359, 1684, 7098, 2957, 4469, 8752, 9797, 5795,\n",
              "       1472, 7263, 7365, 8448, 6001, 3762, 9008, 2435, 1634,  973, 4464,\n",
              "       8393, 2418, 3455, 6167, 5819, 6521, 6242, 7742, 9123, 6738, 2787,\n",
              "       7316, 4305, 2610, 5531, 6926, 7204, 6922, 4182,  307, 5302, 1152,\n",
              "       6950])"
            ]
          },
          "metadata": {},
          "execution_count": 19
        }
      ]
    },
    {
      "cell_type": "code",
      "source": [
        "m=m.reshape(10,5)\n",
        "m"
      ],
      "metadata": {
        "colab": {
          "base_uri": "https://localhost:8080/"
        },
        "id": "CnOuLwzq5H85",
        "outputId": "68993436-f587-4f67-9e3e-09fb51398a16"
      },
      "execution_count": null,
      "outputs": [
        {
          "output_type": "execute_result",
          "data": {
            "text/plain": [
              "array([[961, 265, 697, 639, 544],\n",
              "       [543, 714, 244, 151, 675],\n",
              "       [510, 459, 882, 183,  28],\n",
              "       [802, 128, 128, 932,  53],\n",
              "       [901, 550, 488, 756, 273],\n",
              "       [335, 388, 617,  42, 442],\n",
              "       [543, 888, 257, 321, 999],\n",
              "       [937,  57, 291, 870, 119],\n",
              "       [779, 430,  82,  91, 896],\n",
              "       [398, 611, 565, 908, 633]])"
            ]
          },
          "metadata": {},
          "execution_count": 20
        }
      ]
    },
    {
      "cell_type": "code",
      "source": [
        "x=np.zeros(9)\n",
        "x"
      ],
      "metadata": {
        "colab": {
          "base_uri": "https://localhost:8080/"
        },
        "id": "sbyhYzxl6gb5",
        "outputId": "16bcfb53-6b05-4ce2-fe9f-8297d9903cd4"
      },
      "execution_count": 20,
      "outputs": [
        {
          "output_type": "execute_result",
          "data": {
            "text/plain": [
              "array([0., 0., 0., 0., 0., 0., 0., 0., 0.])"
            ]
          },
          "metadata": {},
          "execution_count": 20
        }
      ]
    },
    {
      "cell_type": "code",
      "source": [
        "type(a)"
      ],
      "metadata": {
        "colab": {
          "base_uri": "https://localhost:8080/"
        },
        "id": "QFdgcTYK6ocZ",
        "outputId": "345b0686-ea53-4b1d-92b5-0f58e38441b0"
      },
      "execution_count": 21,
      "outputs": [
        {
          "output_type": "execute_result",
          "data": {
            "text/plain": [
              "numpy.ndarray"
            ]
          },
          "metadata": {},
          "execution_count": 21
        }
      ]
    },
    {
      "cell_type": "code",
      "source": [
        "x.dtype"
      ],
      "metadata": {
        "colab": {
          "base_uri": "https://localhost:8080/"
        },
        "id": "yWVLHByR6rqC",
        "outputId": "ce1fd642-7025-48ec-f0ed-b02ca22eb2bc"
      },
      "execution_count": 22,
      "outputs": [
        {
          "output_type": "execute_result",
          "data": {
            "text/plain": [
              "dtype('float64')"
            ]
          },
          "metadata": {},
          "execution_count": 22
        }
      ]
    },
    {
      "cell_type": "code",
      "source": [
        "import matplotlib.pyplot as plt\n",
        "import numpy as np\n",
        "i=np.array([[[255,0,255]]]) #RGB\n",
        "plt.imshow(i)"
      ],
      "metadata": {
        "colab": {
          "base_uri": "https://localhost:8080/",
          "height": 283
        },
        "id": "ZvO5w5vWAU6U",
        "outputId": "6639d891-765a-4051-c5f9-98d93c2134a0"
      },
      "execution_count": 23,
      "outputs": [
        {
          "output_type": "execute_result",
          "data": {
            "text/plain": [
              "<matplotlib.image.AxesImage at 0x7f697ed96310>"
            ]
          },
          "metadata": {},
          "execution_count": 23
        },
        {
          "output_type": "display_data",
          "data": {
            "text/plain": [
              "<Figure size 432x288 with 1 Axes>"
            ],
            "image/png": "[encoded data removed]"
          },
          "metadata": {
            "needs_background": "light"
          }
        }
      ]
    },
    {
      "cell_type": "code",
      "source": [
        "import matplotlib.pyplot as plt\n",
        "import numpy as np\n",
        "p=np.array([[[100,25,255]]]) #RGB\n",
        "plt.imshow(p)"
      ],
      "metadata": {
        "colab": {
          "base_uri": "https://localhost:8080/",
          "height": 283
        },
        "id": "QlPdZ4u4CI7H",
        "outputId": "09662cb0-1e80-4381-cc04-8d3dcda93568"
      },
      "execution_count": null,
      "outputs": [
        {
          "output_type": "execute_result",
          "data": {
            "text/plain": [
              "<matplotlib.image.AxesImage at 0x7f2b280de990>"
            ]
          },
          "metadata": {},
          "execution_count": 27
        },
        {
          "output_type": "display_data",
          "data": {
            "text/plain": [
              "<Figure size 432x288 with 1 Axes>"
            ],
            "image/png": "[encoded data removed]"
          },
          "metadata": {
            "needs_background": "light"
          }
        }
      ]
    },
    {
      "cell_type": "code",
      "source": [
        "palette=np.array([[0,0,0],[255,0,0],[34,76,89]])\n",
        "v=np.array([[0,1,2]])\n",
        "a=palette[v]\n",
        "plt.imshow(a)"
      ],
      "metadata": {
        "colab": {
          "base_uri": "https://localhost:8080/",
          "height": 178
        },
        "id": "32NZI0FCC-aV",
        "outputId": "b1376c82-2ef7-48e9-b039-741ca28f3f36"
      },
      "execution_count": null,
      "outputs": [
        {
          "output_type": "execute_result",
          "data": {
            "text/plain": [
              "<matplotlib.image.AxesImage at 0x7f976efe4390>"
            ]
          },
          "metadata": {},
          "execution_count": 31
        },
        {
          "output_type": "display_data",
          "data": {
            "text/plain": [
              "<Figure size 432x288 with 1 Axes>"
            ],
            "image/png": "[encoded data removed]"
          },
          "metadata": {
            "needs_background": "light"
          }
        }
      ]
    },
    {
      "cell_type": "code",
      "source": [
        "import matplotlib.pyplot as plt\n",
        "x=[1,2,3,4]\n",
        "y=[1,2,3,8]\n",
        "plt.plot(x,y,color=\"r\",marker=\"*\")\n",
        "plt.title(\"Line Graph\",fontsize=20,color=\"b\")\n",
        "plt.xlabel(\"X-Axis\",fontsize=10,color=\"g\")\n",
        "plt.ylabel(\"Y-Axis\",fontsize=10,color=\"g\")"
      ],
      "metadata": {
        "colab": {
          "base_uri": "https://localhost:8080/",
          "height": 318
        },
        "id": "7otiAWKoEdtN",
        "outputId": "59213843-0b28-47e1-a142-0ad20cf20edd"
      },
      "execution_count": null,
      "outputs": [
        {
          "output_type": "execute_result",
          "data": {
            "text/plain": [
              "Text(0, 0.5, 'Y-Axis')"
            ]
          },
          "metadata": {},
          "execution_count": 35
        },
        {
          "output_type": "display_data",
          "data": {
            "text/plain": [
              "<Figure size 432x288 with 1 Axes>"
            ],
            "image/png": "[encoded data removed]"
          },
          "metadata": {
            "needs_background": "light"
          }
        }
      ]
    },
    {
      "cell_type": "code",
      "source": [
        "import numpy as np\n",
        "import matplotlib.pyplot as plt\n",
        "a=np.array([1,6,4,8])\n",
        "b=np.array([3,6,8,5])\n",
        "plt.plot(a,b,color=\"r\",marker=\"v\")\n",
        "plt.xlabel(\"X axix\",color=\"y\")\n",
        "plt.ylabel(\"Y axis\",color=\"y\")\n",
        "plt.xticks(range(0,11))\n",
        "plt.yticks(range(0,11))\n",
        "plt.title(\"Tanmoy's Graph\",fontsize=20,color=\"g\")"
      ],
      "metadata": {
        "colab": {
          "base_uri": "https://localhost:8080/",
          "height": 318
        },
        "id": "AnD6BwwPZxCn",
        "outputId": "5846d869-9cf3-45c7-f01d-205079587ce6"
      },
      "execution_count": null,
      "outputs": [
        {
          "output_type": "execute_result",
          "data": {
            "text/plain": [
              "Text(0.5, 1.0, \"Tanmoy's Graph\")"
            ]
          },
          "metadata": {},
          "execution_count": 44
        },
        {
          "output_type": "display_data",
          "data": {
            "text/plain": [
              "<Figure size 432x288 with 1 Axes>"
            ],
            "image/png": "[encoded data removed]"
          },
          "metadata": {
            "needs_background": "light"
          }
        }
      ]
    },
    {
      "cell_type": "code",
      "source": [
        "import matplotlib.pyplot as plt\n",
        "import numpy as np\n",
        "overs=np.array([0,4,8,12,16,20])\n",
        "overs=[0,4,8,12,16,20]\n",
        "team1=[40,67,78,90,110,140]\n",
        "team2=[30,70,80,115,120,160]\n",
        "plt.plot(overs,team2,color=\"blue\",label=\"India\")\n",
        "plt.plot(overs,team1,color=\"green\",label=\"Pakistan\")\n",
        "plt.title(\"Cricket Match\")\n",
        "plt.xlabel(\"Overs\",color=\"r\")\n",
        "plt.ylabel(\"Runs\",color=\"r\")\n",
        "plt.xticks(range(1,21,1))\n",
        "plt.yticks(range(0,211,10))\n",
        "plt.legend()"
      ],
      "metadata": {
        "colab": {
          "base_uri": "https://localhost:8080/",
          "height": 313
        },
        "id": "watAn1N2e5G8",
        "outputId": "ad40e652-ffb5-4b29-817d-6cab54683baa"
      },
      "execution_count": 24,
      "outputs": [
        {
          "output_type": "execute_result",
          "data": {
            "text/plain": [
              "<matplotlib.legend.Legend at 0x7f697e8107d0>"
            ]
          },
          "metadata": {},
          "execution_count": 24
        },
        {
          "output_type": "display_data",
          "data": {
            "text/plain": [
              "<Figure size 432x288 with 1 Axes>"
            ],
            "image/png": "[encoded data removed]"
          },
          "metadata": {
            "needs_background": "light"
          }
        }
      ]
    },
    {
      "cell_type": "code",
      "source": [],
      "metadata": {
        "id": "Rb2kTbXxVBkk"
      },
      "execution_count": null,
      "outputs": []
    },
    {
      "cell_type": "code",
      "source": [],
      "metadata": {
        "id": "NSX5v5N9gW6e"
      },
      "execution_count": null,
      "outputs": []
    },
    {
      "cell_type": "code",
      "source": [
        "import matplotlib.pyplot as plt\n",
        "import numpy as np\n",
        "overs=np.array([0,4,8,12,16,20])\n",
        "team1=[40,67,78,90,110,140]\n",
        "team2=[30,70,80,115,120,160]\n",
        "plt.plot(overs,team2,color=\"blue\",label=\"India\")\n",
        "plt.plot(overs,team1,color=\"green\",label=\"Pakistan\")\n",
        "plt.title(\"Cricket Match\")\n",
        "plt.xlabel(\"Overs\",color=\"r\")\n",
        "plt.ylabel(\"Runs\",color=\"r\")\n",
        "plt.xticks(range(1,21,1))\n",
        "plt.yticks(range(0,210,10))\n",
        "plt.legend()"
      ],
      "metadata": {
        "colab": {
          "base_uri": "https://localhost:8080/",
          "height": 313
        },
        "outputId": "a4ebdb3c-f7e2-48d1-d6e8-a9398bfcfd9a",
        "id": "QARbaUVvgXNq"
      },
      "execution_count": null,
      "outputs": [
        {
          "output_type": "execute_result",
          "data": {
            "text/plain": [
              "<matplotlib.legend.Legend at 0x7fa3e67c4190>"
            ]
          },
          "metadata": {},
          "execution_count": 7
        },
        {
          "output_type": "display_data",
          "data": {
            "text/plain": [
              "<Figure size 432x288 with 1 Axes>"
            ],
            "image/png": "[encoded data removed]"
          },
          "metadata": {
            "needs_background": "light"
          }
        }
      ]
    },
    {
      "cell_type": "code",
      "source": [
        "import numpy as np\n",
        "overs=np.array([0,4,8,12,16,20])\n",
        "overs\n",
        "print(overs)\n",
        "overs.ndim\n",
        "overs.shape\n",
        "overs.size"
      ],
      "metadata": {
        "colab": {
          "base_uri": "https://localhost:8080/"
        },
        "id": "1b5YV5-OgbP9",
        "outputId": "46aea3ce-4d32-4de7-908b-0b7cbc0bcd60"
      },
      "execution_count": null,
      "outputs": [
        {
          "output_type": "stream",
          "name": "stdout",
          "text": [
            "[ 0  4  8 12 16 20]\n"
          ]
        },
        {
          "output_type": "execute_result",
          "data": {
            "text/plain": [
              "6"
            ]
          },
          "metadata": {},
          "execution_count": 6
        }
      ]
    },
    {
      "cell_type": "code",
      "source": [
        "#sports watch data\n",
        "import numpy as np\n",
        "import matplotlib.pyplot as plt\n",
        "a=np.array([50,60,70,115])\n",
        "b=[200,220,240,280]\n",
        "plt.plot(a,b)\n",
        "plt.grid()\n",
        "plt.title(\"Sports Watch Data\",color=\"G\",fontsize=18)"
      ],
      "metadata": {
        "colab": {
          "base_uri": "https://localhost:8080/",
          "height": 359
        },
        "id": "0pBpi7BuoOUG",
        "outputId": "ae5c2f3e-c201-43cf-cd5a-1401732ce8d2"
      },
      "execution_count": 25,
      "outputs": [
        {
          "output_type": "execute_result",
          "data": {
            "text/plain": [
              "Text(0.5, 1.0, 'Sports Watch Data')"
            ]
          },
          "metadata": {},
          "execution_count": 25
        },
        {
          "output_type": "stream",
          "name": "stderr",
          "text": [
            "/usr/local/lib/python3.7/dist-packages/IPython/core/events.py:88: MatplotlibDeprecationWarning: Support for uppercase single-letter colors is deprecated since Matplotlib 3.1 and will be removed in 3.3; please use lowercase instead.\n",
            "  func(*args, **kwargs)\n"
          ]
        },
        {
          "output_type": "display_data",
          "data": {
            "text/plain": [
              "<Figure size 432x288 with 1 Axes>"
            ],
            "image/png": "[encoded data removed]"
          },
          "metadata": {
            "needs_background": "light"
          }
        }
      ]
    },
    {
      "cell_type": "code",
      "source": [
        "type(a)"
      ],
      "metadata": {
        "colab": {
          "base_uri": "https://localhost:8080/"
        },
        "id": "SYgied9epbLa",
        "outputId": "9e3ee994-6211-4bb4-a47f-f3ec6fd8a288"
      },
      "execution_count": null,
      "outputs": [
        {
          "output_type": "execute_result",
          "data": {
            "text/plain": [
              "numpy.ndarray"
            ]
          },
          "metadata": {},
          "execution_count": 4
        }
      ]
    },
    {
      "cell_type": "code",
      "source": [
        "a.dtype"
      ],
      "metadata": {
        "colab": {
          "base_uri": "https://localhost:8080/"
        },
        "id": "Du3YBds2peli",
        "outputId": "b6851b76-d193-4490-f37c-bd3425fab05b"
      },
      "execution_count": null,
      "outputs": [
        {
          "output_type": "execute_result",
          "data": {
            "text/plain": [
              "dtype('int64')"
            ]
          },
          "metadata": {},
          "execution_count": 7
        }
      ]
    },
    {
      "cell_type": "code",
      "source": [
        "type(b)"
      ],
      "metadata": {
        "colab": {
          "base_uri": "https://localhost:8080/"
        },
        "id": "dkeFTH9Mpqfv",
        "outputId": "a587a91a-5d19-450f-f8f6-47f8e779b8af"
      },
      "execution_count": null,
      "outputs": [
        {
          "output_type": "execute_result",
          "data": {
            "text/plain": [
              "list"
            ]
          },
          "metadata": {},
          "execution_count": 8
        }
      ]
    },
    {
      "cell_type": "code",
      "source": [
        "#2. SUB PLOT\n",
        "\n",
        "fig=plt.figure()\n",
        "\n",
        "a=[1,4,7,9]\n",
        "b=[3,5,8,9]\n",
        "c=np.random.randint(0,40,4)\n",
        "d=np.random.randint(0,40,4)\n",
        "\n",
        "m=fig.add_subplot(331)\n",
        "n=fig.add_subplot(332)\n",
        "o=fig.add_subplot(333)\n",
        "p=fig.add_subplot(334)\n",
        "q=fig.add_subplot(335)\n",
        "r=fig.add_subplot(336)\n",
        "\n",
        "m.plot(a,c)\n",
        "n.plot(b,d)\n",
        "o.plot(a,c)\n",
        "p.plot(b,d)\n",
        "q.plot(a,c)\n",
        "r.plot(c,d)"
      ],
      "metadata": {
        "colab": {
          "base_uri": "https://localhost:8080/",
          "height": 207
        },
        "id": "BevD6avDsQeC",
        "outputId": "84de109a-c2a0-4ced-ff1b-6b629672da64"
      },
      "execution_count": null,
      "outputs": [
        {
          "output_type": "execute_result",
          "data": {
            "text/plain": [
              "[<matplotlib.lines.Line2D at 0x7f2dcc7fd6d0>]"
            ]
          },
          "metadata": {},
          "execution_count": 14
        },
        {
          "output_type": "display_data",
          "data": {
            "text/plain": [
              "<Figure size 432x288 with 6 Axes>"
            ],
            "image/png": "[encoded data removed]"
          },
          "metadata": {
            "needs_background": "light"
          }
        }
      ]
    },
    {
      "cell_type": "code",
      "source": [
        "#3.Scatter Plot\n",
        "\n",
        "import matplotlib.pyplot as plt\n",
        "\n",
        "a=[3,1,6,7]\n",
        "b=[7,5,9,9]\n",
        "\n",
        "plt.scatter(a,b,marker=\"D\",color=\"red\")\n",
        "plt.title(\"Scatter Plot\")\n"
      ],
      "metadata": {
        "colab": {
          "base_uri": "https://localhost:8080/",
          "height": 299
        },
        "id": "9n85rDc1yajl",
        "outputId": "a497819e-b29d-476c-8331-9b0c4cbdecf8"
      },
      "execution_count": null,
      "outputs": [
        {
          "output_type": "execute_result",
          "data": {
            "text/plain": [
              "Text(0.5, 1.0, 'Scatter Plot')"
            ]
          },
          "metadata": {},
          "execution_count": 20
        },
        {
          "output_type": "display_data",
          "data": {
            "text/plain": [
              "<Figure size 432x288 with 1 Axes>"
            ],
            "image/png": "[encoded data removed]"
          },
          "metadata": {
            "needs_background": "light"
          }
        }
      ]
    },
    {
      "cell_type": "code",
      "source": [
        "#4. Bar Graph\n",
        "\n",
        "name=[\"Tabnmoy\",\"Ayan\",\"Anik\",\"Deb\"]\n",
        "paisa=[1000,10000,5000,15000]\n",
        "\n",
        "plt.bar(name,paisa,color=[\"red\",\"yellow\",\"pink\",\"green\"],width=0.5)\n",
        "plt.title(\"Name vs Paisa\",fontsize=20,color=\"red\")\n",
        "plt.xlabel(\"Name\",color=\"blue\")\n",
        "plt.ylabel(\"Paisa\",color=\"blue\")\n",
        "plt.yticks(range(0,16000,2000))"
      ],
      "metadata": {
        "colab": {
          "base_uri": "https://localhost:8080/",
          "height": 461
        },
        "id": "HdCbkhIczcVS",
        "outputId": "c38a1658-57d8-4044-a7da-581270cfc727"
      },
      "execution_count": 27,
      "outputs": [
        {
          "output_type": "execute_result",
          "data": {
            "text/plain": [
              "([<matplotlib.axis.YTick at 0x7f697dc28b10>,\n",
              "  <matplotlib.axis.YTick at 0x7f697dc28050>,\n",
              "  <matplotlib.axis.YTick at 0x7f697dc26c90>,\n",
              "  <matplotlib.axis.YTick at 0x7f697dbcad50>,\n",
              "  <matplotlib.axis.YTick at 0x7f697dbe0610>,\n",
              "  <matplotlib.axis.YTick at 0x7f697dbe0b50>,\n",
              "  <matplotlib.axis.YTick at 0x7f697dbe0710>,\n",
              "  <matplotlib.axis.YTick at 0x7f697dbe6650>],\n",
              " <a list of 8 Text major ticklabel objects>)"
            ]
          },
          "metadata": {},
          "execution_count": 27
        },
        {
          "output_type": "display_data",
          "data": {
            "text/plain": [
              "<Figure size 432x288 with 1 Axes>"
            ],
            "image/png": "[encoded data removed]"
          },
          "metadata": {
            "needs_background": "light"
          }
        }
      ]
    },
    {
      "cell_type": "code",
      "source": [
        "name=[\"Tabnmoy\",\"Ayan\",\"Anik\",\"Deb\"]\n",
        "paisa=[1000,10000,5000,15000]\n",
        "\n",
        "plt.barh(name,paisa,color=[\"red\",\"yellow\",\"pink\",\"green\"])\n",
        "plt.title(\"Name vs Paisa\",fontsize=20,color=\"red\")\n",
        "plt.xlabel(\"Paisa\",color=\"blue\")\n",
        "plt.ylabel(\"Name\",color=\"blue\")\n",
        "plt.xticks(range(0,20000,2000))"
      ],
      "metadata": {
        "colab": {
          "base_uri": "https://localhost:8080/",
          "height": 497
        },
        "id": "EKK6KS5BAFdd",
        "outputId": "2841c8c1-fd50-4b73-bd02-a43124ee350c"
      },
      "execution_count": null,
      "outputs": [
        {
          "output_type": "execute_result",
          "data": {
            "text/plain": [
              "([<matplotlib.axis.XTick at 0x7f2dc35c6190>,\n",
              "  <matplotlib.axis.XTick at 0x7f2dc35c6990>,\n",
              "  <matplotlib.axis.XTick at 0x7f2dbfb4eb10>,\n",
              "  <matplotlib.axis.XTick at 0x7f2dc0111490>,\n",
              "  <matplotlib.axis.XTick at 0x7f2dc321ff90>,\n",
              "  <matplotlib.axis.XTick at 0x7f2dc029af90>,\n",
              "  <matplotlib.axis.XTick at 0x7f2dc029a850>,\n",
              "  <matplotlib.axis.XTick at 0x7f2dc029afd0>,\n",
              "  <matplotlib.axis.XTick at 0x7f2dc3c8b5d0>,\n",
              "  <matplotlib.axis.XTick at 0x7f2dc00e9550>],\n",
              " <a list of 10 Text major ticklabel objects>)"
            ]
          },
          "metadata": {},
          "execution_count": 40
        },
        {
          "output_type": "display_data",
          "data": {
            "text/plain": [
              "<Figure size 432x288 with 1 Axes>"
            ],
            "image/png": "[encoded data removed]"
          },
          "metadata": {
            "needs_background": "light"
          }
        }
      ]
    },
    {
      "cell_type": "code",
      "source": [
        "#5. Pie Chart\n",
        "import matplotlib.pyplot as plt\n",
        "\n",
        "name=[\"Tanmoy\",\"Ritam\",\"Joy\",\"Shubhojit\"]\n",
        "number=[34,78,56,84]\n",
        "plt.pie(number,labels=name,colors=[\"red\",\"green\",\"yellow\",\"blue\"],explode=[0.5,0.1,0.2,0.2])"
      ],
      "metadata": {
        "colab": {
          "base_uri": "https://localhost:8080/",
          "height": 391
        },
        "id": "9pYqu0FNprQu",
        "outputId": "ed688ca1-2575-493e-d78b-461d6eedb951"
      },
      "execution_count": 28,
      "outputs": [
        {
          "output_type": "execute_result",
          "data": {
            "text/plain": [
              "([<matplotlib.patches.Wedge at 0x7f697dbb9950>,\n",
              "  <matplotlib.patches.Wedge at 0x7f697dbb9a10>,\n",
              "  <matplotlib.patches.Wedge at 0x7f697db42150>,\n",
              "  <matplotlib.patches.Wedge at 0x7f697db42950>],\n",
              " [Text(1.4584093495181452, 0.6580593964362644, 'Tanmoy'),\n",
              "  Text(-0.2961089688240251, 1.1628927201517656, 'Ritam'),\n",
              "  Text(-1.2216003538291789, -0.4446263324685409, 'Joy'),\n",
              "  Text(0.6500001756801507, -1.1258329234907698, 'Shubhojit')])"
            ]
          },
          "metadata": {},
          "execution_count": 28
        },
        {
          "output_type": "display_data",
          "data": {
            "text/plain": [
              "<Figure size 432x288 with 1 Axes>"
            ],
            "image/png": "[encoded data removed]"
          },
          "metadata": {}
        }
      ]
    },
    {
      "cell_type": "code",
      "source": [
        "# PANDAS LIBRARY- Python library which is used to create dataframe and series\n",
        "# Dataframe- Tabled Data(Data in form of a table)\n",
        "# Series- Column\n",
        "\n",
        "mydataset= {\"Tanmoy\":[\"Guitar\",\"Ukulele\"],\"Ritam\":[\"Acting\",\"Sense of humor\"]}\n",
        "type(mydataset)"
      ],
      "metadata": {
        "colab": {
          "base_uri": "https://localhost:8080/"
        },
        "id": "9k7P58X2tJxG",
        "outputId": "79620ffc-4120-4ed2-9f10-f73574535c42"
      },
      "execution_count": 34,
      "outputs": [
        {
          "output_type": "execute_result",
          "data": {
            "text/plain": [
              "dict"
            ]
          },
          "metadata": {},
          "execution_count": 34
        }
      ]
    },
    {
      "cell_type": "code",
      "source": [
        "import pandas as pd\n",
        "df=pd.DataFrame(mydataset)\n",
        "df"
      ],
      "metadata": {
        "colab": {
          "base_uri": "https://localhost:8080/",
          "height": 112
        },
        "id": "hAxNH6-AviMi",
        "outputId": "b9d1508d-a61a-4590-a8d5-0b0ff6eb067d"
      },
      "execution_count": 35,
      "outputs": [
        {
          "output_type": "execute_result",
          "data": {
            "text/plain": [
              "    Tanmoy           Ritam\n",
              "0   Guitar          Acting\n",
              "1  Ukulele  Sense of humor"
            ],
            "text/html": [
              "\n",
              "  <div id=\"df-01b22e5b-1caa-4072-942d-453b092c1475\">\n",
              "    <div class=\"colab-df-container\">\n",
              "      <div>\n",
              "<style scoped>\n",
              "    .dataframe tbody tr th:only-of-type {\n",
              "        vertical-align: middle;\n",
              "    }\n",
              "\n",
              "    .dataframe tbody tr th {\n",
              "        vertical-align: top;\n",
              "    }\n",
              "\n",
              "    .dataframe thead th {\n",
              "        text-align: right;\n",
              "    }\n",
              "</style>\n",
              "<table border=\"1\" class=\"dataframe\">\n",
              "  <thead>\n",
              "    <tr style=\"text-align: right;\">\n",
              "      <th></th>\n",
              "      <th>Tanmoy</th>\n",
              "      <th>Ritam</th>\n",
              "    </tr>\n",
              "  </thead>\n",
              "  <tbody>\n",
              "    <tr>\n",
              "      <th>0</th>\n",
              "      <td>Guitar</td>\n",
              "      <td>Acting</td>\n",
              "    </tr>\n",
              "    <tr>\n",
              "      <th>1</th>\n",
              "      <td>Ukulele</td>\n",
              "      <td>Sense of humor</td>\n",
              "    </tr>\n",
              "  </tbody>\n",
              "</table>\n",
              "</div>\n",
              "      <button class=\"colab-df-convert\" onclick=\"convertToInteractive('df-01b22e5b-1caa-4072-942d-453b092c1475')\"\n",
              "              title=\"Convert this dataframe to an interactive table.\"\n",
              "              style=\"display:none;\">\n",
              "        \n",
              "  <svg xmlns=\"http://www.w3.org/2000/svg\" height=\"24px\"viewBox=\"0 0 24 24\"\n",
              "       width=\"24px\">\n",
              "    <path d=\"M0 0h24v24H0V0z\" fill=\"none\"/>\n",
              "    <path d=\"M18.56 5.44l.94 2.06.94-2.06 2.06-.94-2.06-.94-.94-2.06-.94 2.06-2.06.94zm-11 1L8.5 8.5l.94-2.06 2.06-.94-2.06-.94L8.5 2.5l-.94 2.06-2.06.94zm10 10l.94 2.06.94-2.06 2.06-.94-2.06-.94-.94-2.06-.94 2.06-2.06.94z\"/><path d=\"M17.41 7.96l-1.37-1.37c-.4-.4-.92-.59-1.43-.59-.52 0-1.04.2-1.43.59L10.3 9.45l-7.72 7.72c-.78.78-.78 2.05 0 2.83L4 21.41c.39.39.9.59 1.41.59.51 0 1.02-.2 1.41-.59l7.78-7.78 2.81-2.81c.8-.78.8-2.07 0-2.86zM5.41 20L4 18.59l7.72-7.72 1.47 1.35L5.41 20z\"/>\n",
              "  </svg>\n",
              "      </button>\n",
              "      \n",
              "  <style>\n",
              "    .colab-df-container {\n",
              "      display:flex;\n",
              "      flex-wrap:wrap;\n",
              "      gap: 12px;\n",
              "    }\n",
              "\n",
              "    .colab-df-convert {\n",
              "      background-color: #E8F0FE;\n",
              "      border: none;\n",
              "      border-radius: 50%;\n",
              "      cursor: pointer;\n",
              "      display: none;\n",
              "      fill: #1967D2;\n",
              "      height: 32px;\n",
              "      padding: 0 0 0 0;\n",
              "      width: 32px;\n",
              "    }\n",
              "\n",
              "    .colab-df-convert:hover {\n",
              "      background-color: #E2EBFA;\n",
              "      box-shadow: 0px 1px 2px rgba(60, 64, 67, 0.3), 0px 1px 3px 1px rgba(60, 64, 67, 0.15);\n",
              "      fill: #174EA6;\n",
              "    }\n",
              "\n",
              "    [theme=dark] .colab-df-convert {\n",
              "      background-color: #3B4455;\n",
              "      fill: #D2E3FC;\n",
              "    }\n",
              "\n",
              "    [theme=dark] .colab-df-convert:hover {\n",
              "      background-color: #434B5C;\n",
              "      box-shadow: 0px 1px 3px 1px rgba(0, 0, 0, 0.15);\n",
              "      filter: drop-shadow(0px 1px 2px rgba(0, 0, 0, 0.3));\n",
              "      fill: #FFFFFF;\n",
              "    }\n",
              "  </style>\n",
              "\n",
              "      <script>\n",
              "        const buttonEl =\n",
              "          document.querySelector('#df-01b22e5b-1caa-4072-942d-453b092c1475 button.colab-df-convert');\n",
              "        buttonEl.style.display =\n",
              "          google.colab.kernel.accessAllowed ? 'block' : 'none';\n",
              "\n",
              "        async function convertToInteractive(key) {\n",
              "          const element = document.querySelector('#df-01b22e5b-1caa-4072-942d-453b092c1475');\n",
              "          const dataTable =\n",
              "            await google.colab.kernel.invokeFunction('convertToInteractive',\n",
              "                                                     [key], {});\n",
              "          if (!dataTable) return;\n",
              "\n",
              "          const docLinkHtml = 'Like what you see? Visit the ' +\n",
              "            '<a target=\"_blank\" href=https://colab.research.google.com/notebooks/data_table.ipynb>data table notebook</a>'\n",
              "            + ' to learn more about interactive tables.';\n",
              "          element.innerHTML = '';\n",
              "          dataTable['output_type'] = 'display_data';\n",
              "          await google.colab.output.renderOutput(dataTable, element);\n",
              "          const docLink = document.createElement('div');\n",
              "          docLink.innerHTML = docLinkHtml;\n",
              "          element.appendChild(docLink);\n",
              "        }\n",
              "      </script>\n",
              "    </div>\n",
              "  </div>\n",
              "  "
            ]
          },
          "metadata": {},
          "execution_count": 35
        }
      ]
    },
    {
      "cell_type": "code",
      "source": [
        "#Series\n",
        "\n",
        "a=[3,6,8,5]\n",
        "myseries=pd.Series(a)\n",
        "myseries    #3685 is series and 0123 is index"
      ],
      "metadata": {
        "colab": {
          "base_uri": "https://localhost:8080/"
        },
        "id": "acrJ0vDXxG4U",
        "outputId": "89bf01cd-6b31-44e9-ca13-9be2f1f361c5"
      },
      "execution_count": 36,
      "outputs": [
        {
          "output_type": "execute_result",
          "data": {
            "text/plain": [
              "0    3\n",
              "1    6\n",
              "2    8\n",
              "3    5\n",
              "dtype: int64"
            ]
          },
          "metadata": {},
          "execution_count": 36
        }
      ]
    },
    {
      "cell_type": "code",
      "source": [
        "import pandas as pd\n",
        "a=[3,6,8,5]\n",
        "myseries=pd.Series(a,index=[\"m\",\"n\",\"o\",\"p\"])\n",
        "myseries"
      ],
      "metadata": {
        "id": "38Zx8Tw7xhAz",
        "colab": {
          "base_uri": "https://localhost:8080/"
        },
        "outputId": "9dcf2fb2-16d6-41c8-fd03-04ba9d183d17"
      },
      "execution_count": null,
      "outputs": [
        {
          "output_type": "execute_result",
          "data": {
            "text/plain": [
              "m    3\n",
              "n    6\n",
              "o    8\n",
              "p    5\n",
              "dtype: int64"
            ]
          },
          "metadata": {},
          "execution_count": 4
        }
      ]
    },
    {
      "cell_type": "code",
      "source": [
        "a={\"day1\": 50,\"day2\":100,\"day3\":150,\"day4\":200}\n",
        "myvar=pd.Series(a)\n",
        "myvar"
      ],
      "metadata": {
        "colab": {
          "base_uri": "https://localhost:8080/"
        },
        "id": "LTvhqpP7Tt-L",
        "outputId": "087fcc98-4d5e-4690-c0f1-1d5b078a2b1a"
      },
      "execution_count": null,
      "outputs": [
        {
          "output_type": "execute_result",
          "data": {
            "text/plain": [
              "day1     50\n",
              "day2    100\n",
              "day3    150\n",
              "day4    200\n",
              "dtype: int64"
            ]
          },
          "metadata": {},
          "execution_count": 5
        }
      ]
    },
    {
      "cell_type": "code",
      "source": [
        "sports1=pd.Series([1,2,3,4],index=[\"cricket\",\"football\",\"hockey\",\"baseball\"])\n",
        "sports1"
      ],
      "metadata": {
        "colab": {
          "base_uri": "https://localhost:8080/"
        },
        "id": "CdlO2sWMV9ue",
        "outputId": "016c98c7-5aa2-494d-eb92-9dfee9d3c957"
      },
      "execution_count": null,
      "outputs": [
        {
          "output_type": "execute_result",
          "data": {
            "text/plain": [
              "cricket     1\n",
              "football    2\n",
              "hockey      3\n",
              "baseball    4\n",
              "dtype: int64"
            ]
          },
          "metadata": {},
          "execution_count": 6
        }
      ]
    },
    {
      "cell_type": "code",
      "source": [
        "sports2=pd.Series([1,4,7,8],index=[\"cricket\",\"ludo\",\"chess\",\"baseball\"])\n",
        "sports2"
      ],
      "metadata": {
        "colab": {
          "base_uri": "https://localhost:8080/"
        },
        "id": "NNw5RbiaWW15",
        "outputId": "8183d438-2318-4b4a-cea7-20c0571de26d"
      },
      "execution_count": null,
      "outputs": [
        {
          "output_type": "execute_result",
          "data": {
            "text/plain": [
              "cricket     1\n",
              "ludo        4\n",
              "chess       7\n",
              "baseball    8\n",
              "dtype: int64"
            ]
          },
          "metadata": {},
          "execution_count": 7
        }
      ]
    },
    {
      "cell_type": "code",
      "source": [
        "s=sports1+sports2\n",
        "s"
      ],
      "metadata": {
        "colab": {
          "base_uri": "https://localhost:8080/"
        },
        "id": "polET4KyWmWr",
        "outputId": "fa1892c1-dd17-4748-c57f-a1e2e5b007b1"
      },
      "execution_count": null,
      "outputs": [
        {
          "output_type": "execute_result",
          "data": {
            "text/plain": [
              "baseball    12.0\n",
              "chess        NaN\n",
              "cricket      2.0\n",
              "football     NaN\n",
              "hockey       NaN\n",
              "ludo         NaN\n",
              "dtype: float64"
            ]
          },
          "metadata": {},
          "execution_count": 8
        }
      ]
    },
    {
      "cell_type": "code",
      "source": [
        "#NaN- Not a number (Null)\n",
        "#But in a few datasets NaN is considered missing value also"
      ],
      "metadata": {
        "id": "W2Wjw6e7Wtdc"
      },
      "execution_count": null,
      "outputs": []
    },
    {
      "cell_type": "code",
      "source": [
        "s=s.dropna()\n",
        "s"
      ],
      "metadata": {
        "colab": {
          "base_uri": "https://localhost:8080/"
        },
        "id": "unmTvlVSim2K",
        "outputId": "d11772eb-f0ec-4525-a34d-e66033293d94"
      },
      "execution_count": null,
      "outputs": [
        {
          "output_type": "execute_result",
          "data": {
            "text/plain": [
              "baseball    12.0\n",
              "cricket      2.0\n",
              "dtype: float64"
            ]
          },
          "metadata": {},
          "execution_count": 11
        }
      ]
    },
    {
      "cell_type": "code",
      "source": [
        "import pandas as pd\n",
        "import numpy as np\n",
        "\n",
        "df=pd.DataFrame({\"English\":[1,2,np.nan,5,np.nan],\n",
        "                 \"Hindi\":[53,78,8,np.nan,3],\n",
        "                 \"Bengali\":[1,4,7,9,3]})\n",
        "df"
      ],
      "metadata": {
        "colab": {
          "base_uri": "https://localhost:8080/",
          "height": 206
        },
        "id": "974mjDt9m_lr",
        "outputId": "be308a37-139b-4f39-adff-631247ec6845"
      },
      "execution_count": 37,
      "outputs": [
        {
          "output_type": "execute_result",
          "data": {
            "text/plain": [
              "   English  Hindi  Bengali\n",
              "0      1.0   53.0        1\n",
              "1      2.0   78.0        4\n",
              "2      NaN    8.0        7\n",
              "3      5.0    NaN        9\n",
              "4      NaN    3.0        3"
            ],
            "text/html": [
              "\n",
              "  <div id=\"df-43e35e63-0eaa-4484-b268-858ea44f8487\">\n",
              "    <div class=\"colab-df-container\">\n",
              "      <div>\n",
              "<style scoped>\n",
              "    .dataframe tbody tr th:only-of-type {\n",
              "        vertical-align: middle;\n",
              "    }\n",
              "\n",
              "    .dataframe tbody tr th {\n",
              "        vertical-align: top;\n",
              "    }\n",
              "\n",
              "    .dataframe thead th {\n",
              "        text-align: right;\n",
              "    }\n",
              "</style>\n",
              "<table border=\"1\" class=\"dataframe\">\n",
              "  <thead>\n",
              "    <tr style=\"text-align: right;\">\n",
              "      <th></th>\n",
              "      <th>English</th>\n",
              "      <th>Hindi</th>\n",
              "      <th>Bengali</th>\n",
              "    </tr>\n",
              "  </thead>\n",
              "  <tbody>\n",
              "    <tr>\n",
              "      <th>0</th>\n",
              "      <td>1.0</td>\n",
              "      <td>53.0</td>\n",
              "      <td>1</td>\n",
              "    </tr>\n",
              "    <tr>\n",
              "      <th>1</th>\n",
              "      <td>2.0</td>\n",
              "      <td>78.0</td>\n",
              "      <td>4</td>\n",
              "    </tr>\n",
              "    <tr>\n",
              "      <th>2</th>\n",
              "      <td>NaN</td>\n",
              "      <td>8.0</td>\n",
              "      <td>7</td>\n",
              "    </tr>\n",
              "    <tr>\n",
              "      <th>3</th>\n",
              "      <td>5.0</td>\n",
              "      <td>NaN</td>\n",
              "      <td>9</td>\n",
              "    </tr>\n",
              "    <tr>\n",
              "      <th>4</th>\n",
              "      <td>NaN</td>\n",
              "      <td>3.0</td>\n",
              "      <td>3</td>\n",
              "    </tr>\n",
              "  </tbody>\n",
              "</table>\n",
              "</div>\n",
              "      <button class=\"colab-df-convert\" onclick=\"convertToInteractive('df-43e35e63-0eaa-4484-b268-858ea44f8487')\"\n",
              "              title=\"Convert this dataframe to an interactive table.\"\n",
              "              style=\"display:none;\">\n",
              "        \n",
              "  <svg xmlns=\"http://www.w3.org/2000/svg\" height=\"24px\"viewBox=\"0 0 24 24\"\n",
              "       width=\"24px\">\n",
              "    <path d=\"M0 0h24v24H0V0z\" fill=\"none\"/>\n",
              "    <path d=\"M18.56 5.44l.94 2.06.94-2.06 2.06-.94-2.06-.94-.94-2.06-.94 2.06-2.06.94zm-11 1L8.5 8.5l.94-2.06 2.06-.94-2.06-.94L8.5 2.5l-.94 2.06-2.06.94zm10 10l.94 2.06.94-2.06 2.06-.94-2.06-.94-.94-2.06-.94 2.06-2.06.94z\"/><path d=\"M17.41 7.96l-1.37-1.37c-.4-.4-.92-.59-1.43-.59-.52 0-1.04.2-1.43.59L10.3 9.45l-7.72 7.72c-.78.78-.78 2.05 0 2.83L4 21.41c.39.39.9.59 1.41.59.51 0 1.02-.2 1.41-.59l7.78-7.78 2.81-2.81c.8-.78.8-2.07 0-2.86zM5.41 20L4 18.59l7.72-7.72 1.47 1.35L5.41 20z\"/>\n",
              "  </svg>\n",
              "      </button>\n",
              "      \n",
              "  <style>\n",
              "    .colab-df-container {\n",
              "      display:flex;\n",
              "      flex-wrap:wrap;\n",
              "      gap: 12px;\n",
              "    }\n",
              "\n",
              "    .colab-df-convert {\n",
              "      background-color: #E8F0FE;\n",
              "      border: none;\n",
              "      border-radius: 50%;\n",
              "      cursor: pointer;\n",
              "      display: none;\n",
              "      fill: #1967D2;\n",
              "      height: 32px;\n",
              "      padding: 0 0 0 0;\n",
              "      width: 32px;\n",
              "    }\n",
              "\n",
              "    .colab-df-convert:hover {\n",
              "      background-color: #E2EBFA;\n",
              "      box-shadow: 0px 1px 2px rgba(60, 64, 67, 0.3), 0px 1px 3px 1px rgba(60, 64, 67, 0.15);\n",
              "      fill: #174EA6;\n",
              "    }\n",
              "\n",
              "    [theme=dark] .colab-df-convert {\n",
              "      background-color: #3B4455;\n",
              "      fill: #D2E3FC;\n",
              "    }\n",
              "\n",
              "    [theme=dark] .colab-df-convert:hover {\n",
              "      background-color: #434B5C;\n",
              "      box-shadow: 0px 1px 3px 1px rgba(0, 0, 0, 0.15);\n",
              "      filter: drop-shadow(0px 1px 2px rgba(0, 0, 0, 0.3));\n",
              "      fill: #FFFFFF;\n",
              "    }\n",
              "  </style>\n",
              "\n",
              "      <script>\n",
              "        const buttonEl =\n",
              "          document.querySelector('#df-43e35e63-0eaa-4484-b268-858ea44f8487 button.colab-df-convert');\n",
              "        buttonEl.style.display =\n",
              "          google.colab.kernel.accessAllowed ? 'block' : 'none';\n",
              "\n",
              "        async function convertToInteractive(key) {\n",
              "          const element = document.querySelector('#df-43e35e63-0eaa-4484-b268-858ea44f8487');\n",
              "          const dataTable =\n",
              "            await google.colab.kernel.invokeFunction('convertToInteractive',\n",
              "                                                     [key], {});\n",
              "          if (!dataTable) return;\n",
              "\n",
              "          const docLinkHtml = 'Like what you see? Visit the ' +\n",
              "            '<a target=\"_blank\" href=https://colab.research.google.com/notebooks/data_table.ipynb>data table notebook</a>'\n",
              "            + ' to learn more about interactive tables.';\n",
              "          element.innerHTML = '';\n",
              "          dataTable['output_type'] = 'display_data';\n",
              "          await google.colab.output.renderOutput(dataTable, element);\n",
              "          const docLink = document.createElement('div');\n",
              "          docLink.innerHTML = docLinkHtml;\n",
              "          element.appendChild(docLink);\n",
              "        }\n",
              "      </script>\n",
              "    </div>\n",
              "  </div>\n",
              "  "
            ]
          },
          "metadata": {},
          "execution_count": 37
        }
      ]
    },
    {
      "cell_type": "code",
      "source": [
        "df.fillna(value=\"Pore Likhbo\")"
      ],
      "metadata": {
        "colab": {
          "base_uri": "https://localhost:8080/",
          "height": 206
        },
        "id": "ouZSP91AqSa3",
        "outputId": "50cf12db-47ca-4a73-c1e2-19f252d7b25e"
      },
      "execution_count": 38,
      "outputs": [
        {
          "output_type": "execute_result",
          "data": {
            "text/plain": [
              "       English        Hindi  Bengali\n",
              "0          1.0         53.0        1\n",
              "1          2.0         78.0        4\n",
              "2  Pore Likhbo          8.0        7\n",
              "3          5.0  Pore Likhbo        9\n",
              "4  Pore Likhbo          3.0        3"
            ],
            "text/html": [
              "\n",
              "  <div id=\"df-dbc8466e-2a69-4b60-95ae-53520a1fa94f\">\n",
              "    <div class=\"colab-df-container\">\n",
              "      <div>\n",
              "<style scoped>\n",
              "    .dataframe tbody tr th:only-of-type {\n",
              "        vertical-align: middle;\n",
              "    }\n",
              "\n",
              "    .dataframe tbody tr th {\n",
              "        vertical-align: top;\n",
              "    }\n",
              "\n",
              "    .dataframe thead th {\n",
              "        text-align: right;\n",
              "    }\n",
              "</style>\n",
              "<table border=\"1\" class=\"dataframe\">\n",
              "  <thead>\n",
              "    <tr style=\"text-align: right;\">\n",
              "      <th></th>\n",
              "      <th>English</th>\n",
              "      <th>Hindi</th>\n",
              "      <th>Bengali</th>\n",
              "    </tr>\n",
              "  </thead>\n",
              "  <tbody>\n",
              "    <tr>\n",
              "      <th>0</th>\n",
              "      <td>1.0</td>\n",
              "      <td>53.0</td>\n",
              "      <td>1</td>\n",
              "    </tr>\n",
              "    <tr>\n",
              "      <th>1</th>\n",
              "      <td>2.0</td>\n",
              "      <td>78.0</td>\n",
              "      <td>4</td>\n",
              "    </tr>\n",
              "    <tr>\n",
              "      <th>2</th>\n",
              "      <td>Pore Likhbo</td>\n",
              "      <td>8.0</td>\n",
              "      <td>7</td>\n",
              "    </tr>\n",
              "    <tr>\n",
              "      <th>3</th>\n",
              "      <td>5.0</td>\n",
              "      <td>Pore Likhbo</td>\n",
              "      <td>9</td>\n",
              "    </tr>\n",
              "    <tr>\n",
              "      <th>4</th>\n",
              "      <td>Pore Likhbo</td>\n",
              "      <td>3.0</td>\n",
              "      <td>3</td>\n",
              "    </tr>\n",
              "  </tbody>\n",
              "</table>\n",
              "</div>\n",
              "      <button class=\"colab-df-convert\" onclick=\"convertToInteractive('df-dbc8466e-2a69-4b60-95ae-53520a1fa94f')\"\n",
              "              title=\"Convert this dataframe to an interactive table.\"\n",
              "              style=\"display:none;\">\n",
              "        \n",
              "  <svg xmlns=\"http://www.w3.org/2000/svg\" height=\"24px\"viewBox=\"0 0 24 24\"\n",
              "       width=\"24px\">\n",
              "    <path d=\"M0 0h24v24H0V0z\" fill=\"none\"/>\n",
              "    <path d=\"M18.56 5.44l.94 2.06.94-2.06 2.06-.94-2.06-.94-.94-2.06-.94 2.06-2.06.94zm-11 1L8.5 8.5l.94-2.06 2.06-.94-2.06-.94L8.5 2.5l-.94 2.06-2.06.94zm10 10l.94 2.06.94-2.06 2.06-.94-2.06-.94-.94-2.06-.94 2.06-2.06.94z\"/><path d=\"M17.41 7.96l-1.37-1.37c-.4-.4-.92-.59-1.43-.59-.52 0-1.04.2-1.43.59L10.3 9.45l-7.72 7.72c-.78.78-.78 2.05 0 2.83L4 21.41c.39.39.9.59 1.41.59.51 0 1.02-.2 1.41-.59l7.78-7.78 2.81-2.81c.8-.78.8-2.07 0-2.86zM5.41 20L4 18.59l7.72-7.72 1.47 1.35L5.41 20z\"/>\n",
              "  </svg>\n",
              "      </button>\n",
              "      \n",
              "  <style>\n",
              "    .colab-df-container {\n",
              "      display:flex;\n",
              "      flex-wrap:wrap;\n",
              "      gap: 12px;\n",
              "    }\n",
              "\n",
              "    .colab-df-convert {\n",
              "      background-color: #E8F0FE;\n",
              "      border: none;\n",
              "      border-radius: 50%;\n",
              "      cursor: pointer;\n",
              "      display: none;\n",
              "      fill: #1967D2;\n",
              "      height: 32px;\n",
              "      padding: 0 0 0 0;\n",
              "      width: 32px;\n",
              "    }\n",
              "\n",
              "    .colab-df-convert:hover {\n",
              "      background-color: #E2EBFA;\n",
              "      box-shadow: 0px 1px 2px rgba(60, 64, 67, 0.3), 0px 1px 3px 1px rgba(60, 64, 67, 0.15);\n",
              "      fill: #174EA6;\n",
              "    }\n",
              "\n",
              "    [theme=dark] .colab-df-convert {\n",
              "      background-color: #3B4455;\n",
              "      fill: #D2E3FC;\n",
              "    }\n",
              "\n",
              "    [theme=dark] .colab-df-convert:hover {\n",
              "      background-color: #434B5C;\n",
              "      box-shadow: 0px 1px 3px 1px rgba(0, 0, 0, 0.15);\n",
              "      filter: drop-shadow(0px 1px 2px rgba(0, 0, 0, 0.3));\n",
              "      fill: #FFFFFF;\n",
              "    }\n",
              "  </style>\n",
              "\n",
              "      <script>\n",
              "        const buttonEl =\n",
              "          document.querySelector('#df-dbc8466e-2a69-4b60-95ae-53520a1fa94f button.colab-df-convert');\n",
              "        buttonEl.style.display =\n",
              "          google.colab.kernel.accessAllowed ? 'block' : 'none';\n",
              "\n",
              "        async function convertToInteractive(key) {\n",
              "          const element = document.querySelector('#df-dbc8466e-2a69-4b60-95ae-53520a1fa94f');\n",
              "          const dataTable =\n",
              "            await google.colab.kernel.invokeFunction('convertToInteractive',\n",
              "                                                     [key], {});\n",
              "          if (!dataTable) return;\n",
              "\n",
              "          const docLinkHtml = 'Like what you see? Visit the ' +\n",
              "            '<a target=\"_blank\" href=https://colab.research.google.com/notebooks/data_table.ipynb>data table notebook</a>'\n",
              "            + ' to learn more about interactive tables.';\n",
              "          element.innerHTML = '';\n",
              "          dataTable['output_type'] = 'display_data';\n",
              "          await google.colab.output.renderOutput(dataTable, element);\n",
              "          const docLink = document.createElement('div');\n",
              "          docLink.innerHTML = docLinkHtml;\n",
              "          element.appendChild(docLink);\n",
              "        }\n",
              "      </script>\n",
              "    </div>\n",
              "  </div>\n",
              "  "
            ]
          },
          "metadata": {},
          "execution_count": 38
        }
      ]
    },
    {
      "cell_type": "code",
      "source": [],
      "metadata": {
        "id": "mrcashyVqh1w"
      },
      "execution_count": null,
      "outputs": []
    }
  ]
}